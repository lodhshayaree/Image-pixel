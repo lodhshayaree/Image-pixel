{
  "cells": [
    {
      "cell_type": "code",
      "execution_count": 3,
      "metadata": {},
      "outputs": [
        {
          "name": "stdout",
          "output_type": "stream",
          "text": [
            "Pixel value  at center of face: [183 193 198]\n"
          ]
        }
      ],
      "source": [
        "import cv2\n",
        "\n",
        "def detect_face_and_show_one_pixel():\n",
        "    # Load the pre-trained face detection classifier\n",
        "    face_cascade = cv2.CascadeClassifier(cv2.data.haarcascades + 'haarcascade_frontalface_default.xml')\n",
        "    \n",
        "    # Open the webcam (default camera)\n",
        "    cap = cv2.VideoCapture(0)\n",
        "    \n",
        "    if not cap.isOpened():\n",
        "        print(\"Error: Could not open webcam.\")\n",
        "        return\n",
        "    \n",
        "    # Capture frame-by-frame\n",
        "    ret, frame = cap.read()\n",
        "    \n",
        "    # Check if the frame is valid\n",
        "    if not ret:\n",
        "        print(\"Error: Failed to capture image.\")\n",
        "        return\n",
        "    \n",
        "    # Convert the captured frame to grayscale\n",
        "    gray = cv2.cvtColor(frame, cv2.COLOR_BGR2GRAY)\n",
        "    \n",
        "    # Detect faces in the grayscale frame\n",
        "    faces = face_cascade.detectMultiScale(gray, scaleFactor=1.3, minNeighbors=5, minSize=(100, 100))\n",
        "    \n",
        "    # Iterate over detected faces (assuming there is only one face)\n",
        "    for (x, y, w, h) in faces:\n",
        "        # Increase the size of the detected face area (optional)\n",
        "        expanded_x = max(0, x - 20)\n",
        "        expanded_y = max(0, y - 20)\n",
        "        expanded_w = min(frame.shape[1], x + w + 20) - expanded_x\n",
        "        expanded_h = min(frame.shape[0], y + h + 20) - expanded_y\n",
        "        \n",
        "        # Extract the region of interest (ROI), i.e., the face area\n",
        "        face_roi = frame[expanded_y:expanded_y + expanded_h, expanded_x:expanded_x + expanded_w]\n",
        "        \n",
        "        # Calculate the center coordinates of the face ROI\n",
        "        center_x = expanded_x + expanded_w // 2\n",
        "        center_y = expanded_y + expanded_h // 2\n",
        "        \n",
        "        # Get the pixel value at the center of the face ROI (BGR format)\n",
        "        pixel_value = frame[center_y, center_x]\n",
        "        \n",
        "        # Print the pixel value in BGR format\n",
        "        print(f\"Pixel value  at center of face: {pixel_value}\")\n",
        "        \n",
        "        # Draw rectangle around the detected face\n",
        "        cv2.rectangle(frame, (expanded_x, expanded_y), (expanded_x + expanded_w, expanded_y + expanded_h), (255, 0, 0), 2)\n",
        "        \n",
        "        # Draw rectangle around the face ROI area\n",
        "        cv2.rectangle(frame, (expanded_x, expanded_y), (expanded_x + expanded_w, expanded_y + expanded_h), (0, 255, 0), 2)\n",
        "        \n",
        "    # Display the captured image with face detection and region of interest\n",
        "    cv2.imshow('Detected Face and ROI', frame)\n",
        "    \n",
        "    # Wait for any key press to close the window\n",
        "    cv2.waitKey(0)\n",
        "    \n",
        "    # Release the capture and close all OpenCV windows\n",
        "    cap.release()\n",
        "    cv2.destroyAllWindows()\n",
        "\n",
        "# Call the function to detect faces and show pixel values of a specific point in the face region\n",
        "detect_face_and_show_one_pixel()\n"
      ]
    }
  ],
  "metadata": {
    "colab": {
      "provenance": []
    },
    "kernelspec": {
      "display_name": "Python 3",
      "name": "python3"
    },
    "language_info": {
      "codemirror_mode": {
        "name": "ipython",
        "version": 3
      },
      "file_extension": ".py",
      "mimetype": "text/x-python",
      "name": "python",
      "nbconvert_exporter": "python",
      "pygments_lexer": "ipython3",
      "version": "3.8.0"
    }
  },
  "nbformat": 4,
  "nbformat_minor": 0
}
